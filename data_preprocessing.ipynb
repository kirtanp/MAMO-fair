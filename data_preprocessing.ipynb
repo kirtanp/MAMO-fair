{
 "cells": [
  {
   "cell_type": "markdown",
   "metadata": {
    "toc": true
   },
   "source": [
    "<h1>Table of Contents<span class=\"tocSkip\"></span></h1>\n",
    "<div class=\"toc\"><ul class=\"toc-item\"><li><span><a href=\"#Celeb-attribute-dataset\" data-toc-modified-id=\"Celeb-attribute-dataset-1\"><span class=\"toc-item-num\">1&nbsp;&nbsp;</span>Celeb attribute dataset</a></span></li><li><span><a href=\"#Dutch-census-dataset\" data-toc-modified-id=\"Dutch-census-dataset-2\"><span class=\"toc-item-num\">2&nbsp;&nbsp;</span>Dutch census dataset</a></span></li><li><span><a href=\"#Adult-dataset\" data-toc-modified-id=\"Adult-dataset-3\"><span class=\"toc-item-num\">3&nbsp;&nbsp;</span>Adult dataset</a></span></li><li><span><a href=\"#Compas-dataset\" data-toc-modified-id=\"Compas-dataset-4\"><span class=\"toc-item-num\">4&nbsp;&nbsp;</span>Compas dataset</a></span></li><li><span><a href=\"#German-credit\" data-toc-modified-id=\"German-credit-5\"><span class=\"toc-item-num\">5&nbsp;&nbsp;</span>German credit</a></span></li><li><span><a href=\"#Communities-and-crime\" data-toc-modified-id=\"Communities-and-crime-6\"><span class=\"toc-item-num\">6&nbsp;&nbsp;</span>Communities and crime</a></span></li></ul></div>"
   ]
  },
  {
   "cell_type": "code",
   "execution_count": 10,
   "metadata": {},
   "outputs": [],
   "source": [
    "import numpy as np\n",
    "from scipy.io import arff\n",
    "import pandas as pd\n",
    "import pickle"
   ]
  },
  {
   "cell_type": "code",
   "execution_count": 11,
   "metadata": {},
   "outputs": [],
   "source": [
    "def get_X_y(df, y_cols, keep_sen=True):\n",
    "    y_rev = y_cols.copy()\n",
    "    y_rev.reverse()\n",
    "    col_order = [col for col in df.columns if col not in y_cols] + y_rev\n",
    "    df = df[col_order]\n",
    "    y = df[y_cols].to_numpy()\n",
    "    if(keep_sen is True):\n",
    "        X = df.drop(y_cols[0], axis=1).to_numpy()\n",
    "    elif(keep_sen is False):\n",
    "        X = df.drop(y_cols, axis=1).to_numpy()\n",
    "    index = {}\n",
    "    for i, col in enumerate(y_cols):\n",
    "        index[col] = i\n",
    "    \n",
    "    return(X, y, index)\n",
    "\n",
    "def one_hot_encode(df, cat_cols):\n",
    "    for col in cat_cols:\n",
    "        one_hot_enc = pd.get_dummies(df[col], prefix=col)\n",
    "        df = df.join(one_hot_enc)\n",
    "        df = df.drop([col], axis=1)\n",
    "    return(df)"
   ]
  },
  {
   "cell_type": "markdown",
   "metadata": {},
   "source": [
    "### Adult dataset\n",
    "label: Class (1 if income above 50k else 0)  \n",
    "Sensitive attributes: Race, sex  \n",
    "race - 1 if white  \n",
    "sex - 1 if male"
   ]
  },
  {
   "cell_type": "code",
   "execution_count": 22,
   "metadata": {},
   "outputs": [
    {
     "data": {
      "text/plain": [
       "(48842, 15)"
      ]
     },
     "execution_count": 22,
     "metadata": {},
     "output_type": "execute_result"
    }
   ],
   "source": [
    "adult = pd.read_csv('data/adult/adult-full.csv')\n",
    "adult.shape"
   ]
  },
  {
   "cell_type": "code",
   "execution_count": 23,
   "metadata": {},
   "outputs": [
    {
     "data": {
      "text/plain": [
       "<=50K    37155\n",
       ">50K     11687\n",
       "Name: class, dtype: int64"
      ]
     },
     "execution_count": 23,
     "metadata": {},
     "output_type": "execute_result"
    }
   ],
   "source": [
    "adult['class'].value_counts()"
   ]
  },
  {
   "cell_type": "code",
   "execution_count": 24,
   "metadata": {},
   "outputs": [],
   "source": [
    "adult = adult.drop(['education', 'fnlwgt', 'capitalgain', 'capitalloss'], axis=1)\n",
    "adult['class'] = adult['class'].apply(lambda x: 0 if x=='<=50K' else 1)"
   ]
  },
  {
   "cell_type": "code",
   "execution_count": 25,
   "metadata": {},
   "outputs": [],
   "source": [
    "counts = adult['native-country'].value_counts()\n",
    "replace = counts[counts <= 150].index\n",
    "adult['native-country'] = adult['native-country'].replace(replace, 'other')"
   ]
  },
  {
   "cell_type": "code",
   "execution_count": 26,
   "metadata": {},
   "outputs": [],
   "source": [
    "cat_cols_adult = ['workclass', 'marital-status', 'occupation', 'relationship', 'native-country']\n",
    "adult = one_hot_encode(adult, cat_cols_adult)\n",
    "\n",
    "adult['sex'] = adult['sex'].apply(lambda x: 1 if x=='Male' else 0)\n",
    "adult['race'] = adult['race'].apply(lambda x: 1 if x=='White' else 0)"
   ]
  },
  {
   "cell_type": "code",
   "execution_count": 27,
   "metadata": {},
   "outputs": [],
   "source": [
    "y_cols = ['class', 'sex', 'race']\n",
    "adult_X, adult_y, adult_index = get_X_y(adult, y_cols)\n",
    "adult_X_a, _, __ = get_X_y(adult, y_cols)"
   ]
  },
  {
   "cell_type": "code",
   "execution_count": 28,
   "metadata": {},
   "outputs": [],
   "source": [
    "np.save('data/adult/X.npy', adult_X)\n",
    "np.save('data/adult/y.npy', adult_y)\n",
    "with open('data/adult/index', 'wb') as fp:\n",
    "    pickle.dump(adult_index, fp)\n",
    "    \n",
    "np.save('data/adult/X_a.npy', adult_X_a)\n"
   ]
  },
  {
   "cell_type": "markdown",
   "metadata": {},
   "source": [
    "### Compas dataset"
   ]
  },
  {
   "cell_type": "code",
   "execution_count": 29,
   "metadata": {},
   "outputs": [
    {
     "data": {
      "text/plain": [
       "(6167, 403)"
      ]
     },
     "execution_count": 29,
     "metadata": {},
     "output_type": "execute_result"
    }
   ],
   "source": [
    "compas = pd.read_csv('data/compas/propublica-recidivism_numerical-binsensitive.csv')\n",
    "compas.shape"
   ]
  },
  {
   "cell_type": "code",
   "execution_count": 30,
   "metadata": {},
   "outputs": [
    {
     "data": {
      "text/plain": [
       "0.45548889249229774"
      ]
     },
     "execution_count": 30,
     "metadata": {},
     "output_type": "execute_result"
    }
   ],
   "source": [
    "2809/(3358+2809)"
   ]
  },
  {
   "cell_type": "code",
   "execution_count": 31,
   "metadata": {},
   "outputs": [
    {
     "data": {
      "text/plain": [
       "0    3358\n",
       "1    2809\n",
       "Name: two_year_recid, dtype: int64"
      ]
     },
     "execution_count": 31,
     "metadata": {},
     "output_type": "execute_result"
    }
   ],
   "source": [
    "compas.two_year_recid.value_counts()"
   ]
  },
  {
   "cell_type": "code",
   "execution_count": 32,
   "metadata": {},
   "outputs": [],
   "source": [
    "y_cols = ['two_year_recid', 'race', 'sex']\n",
    "compas_X, compas_y, compas_index = get_X_y(compas, y_cols)\n",
    "compas_X_a, _, __ = get_X_y(compas, y_cols)"
   ]
  },
  {
   "cell_type": "code",
   "execution_count": 33,
   "metadata": {},
   "outputs": [],
   "source": [
    "np.save('data/compas/X.npy', compas_X)\n",
    "np.save('data/compas/y.npy', compas_y)\n",
    "with open('data/compas/index', 'wb') as fp:\n",
    "    pickle.dump(compas_index, fp)\n",
    "    \n",
    "np.save('data/compas/X_a.npy', compas_X_a)\n"
   ]
  }
 ],
 "metadata": {
  "kernelspec": {
   "display_name": "Python 3",
   "language": "python",
   "name": "python3"
  },
  "language_info": {
   "codemirror_mode": {
    "name": "ipython",
    "version": 3
   },
   "file_extension": ".py",
   "mimetype": "text/x-python",
   "name": "python",
   "nbconvert_exporter": "python",
   "pygments_lexer": "ipython3",
   "version": "3.6.9"
  },
  "toc": {
   "base_numbering": 1,
   "nav_menu": {},
   "number_sections": true,
   "sideBar": true,
   "skip_h1_title": false,
   "title_cell": "Table of Contents",
   "title_sidebar": "Contents",
   "toc_cell": true,
   "toc_position": {},
   "toc_section_display": true,
   "toc_window_display": false
  }
 },
 "nbformat": 4,
 "nbformat_minor": 2
}
